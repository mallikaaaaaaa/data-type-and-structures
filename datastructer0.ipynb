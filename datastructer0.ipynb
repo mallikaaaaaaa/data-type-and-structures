{
  "nbformat": 4,
  "nbformat_minor": 0,
  "metadata": {
    "colab": {
      "provenance": []
    },
    "kernelspec": {
      "name": "python3",
      "display_name": "Python 3"
    },
    "language_info": {
      "name": "python"
    }
  },
  "cells": [
    {
      "cell_type": "markdown",
      "source": [
        "1. **What are data structures, and why are they important?**\n",
        "     \n",
        "     -> Data structures are methods of organizing data in a computer program, allowing for efficient storage and access of information, making them crucial in Python as they enable developers to structure and manipulate data effectively based on the problem they're solving, leading to optimized code and faster execution times.\n",
        "\n",
        "     **Why data structures are important in Python:**\n",
        "       Algorithm design\n",
        "       Data manipulation\n",
        "       Readability\n",
        "\n",
        "2.  **Explain the difference between mutable and immutable data types with\n",
        "     examples.**\n",
        "\n",
        "     -> **Mutable data types**    \n",
        "        Can be changed after creation\n",
        "        Can add, remove, or update elements or properties\n",
        "        Ideal for dynamic data\n",
        "        Examples include lists, dictionaries, and sets\n",
        "\n",
        "       **Immutable data types **\n",
        "        Cannot be changed after creation\n",
        "        Values or properties cannot be modified directly\n",
        "        Ensure data integrity and thread safety\n",
        "        Examples include strings, tuples, numbers, booleans, null, and undefined  \n",
        "\n",
        "3.  **What are the main differences between lists and tuples in Python?**\n",
        "\n",
        "     ->**Differences between List and Tuple in Python**\n",
        "\n",
        "      **LIST**\n",
        "      Lists are mutable.\n",
        "      The implication of iterations is Time-consuming.\n",
        "      The list is better for performing operations, such as insertion and deletion.\n",
        "      Lists consume more memory.\n",
        "      Lists have several built-in methods.\n",
        "\n",
        "      **TUPLES**\n",
        "      Tuples are immutable.\n",
        "      The implication of iterations is comparatively Faster.\n",
        "      A Tuple data type is appropriate for accessing the elements.\n",
        "      Tuple consumes less memory as compared to the list.\n",
        "      Tuple does not have many built-in methods.\n",
        "\n",
        "4. **Describe how dictionaries store data.**\n",
        "\n",
        "     ->  Dictionaries are used to store data values in key:value pairs. A dictionary is a collection which is ordered*, changeable and do not allow duplicates.As of Python version 3.7, dictionaries are ordered. In Python 3.6 and earlier, dictionaries are unordered.  \n",
        "\n",
        "5. **Why might you use a set instead of a list in Python?**\n",
        "\n",
        "     -> The Python sets are highly useful to efficiently remove duplicate values from a collection like a list and to perform common math operations like unions and intersections.\n",
        "\n",
        "6. **What is a string in Python, and how is it different from a list?**\n",
        "\n",
        "     -> In Python, a string is a sequence of characters, while a list is a sequence of items that can be of any type. Strings are immutable, meaning they cannot be changed after they are created, while lists are mutable and can be changed.\n",
        "\n",
        "7. **How do tuples ensure data integrity in Python?**\n",
        "\n",
        "     -> Tuples are immutable to ensure that their contents remain constant\n",
        "        throughout their lifecycle, guaranteeing data integrity and reliability. This immutability allows tuples to be used as keys in dictionaries and elements in sets, as they can be hashed.\n",
        "\n",
        "8. **What is a hash table, and how does it relate to dictionaries in Python?**\n",
        "\n",
        "     -> In Python, a hash table is a data structure that's implemented using the built-in dictionary data type. A hash table is a way to store key-value pairs, and it's used to make data access quick and efficient.\n",
        "\n",
        "     **How does a hash table work?**\n",
        "\n",
        "     A hash function generates a unique index value for each key.\n",
        "     This index value points to an array element where the corresponding value is stored.\n",
        "     This process is called hashing.\n",
        "\n",
        "9. **Can lists contain different data types in Python?**\n",
        "\n",
        "     -> Although it's not really common, a list can also contain a mix of Python types including strings, floats, and booleans.\n",
        "\n",
        "10. **Explain why strings are immutable in Python.**\n",
        "\n",
        "     -> Strings in Python are “immutable” which means they can not be changed after they are created. Some other immutable data types are integers, float, boolean, etc.\n",
        "     The immutability of Python string is very useful as it helps in hashing, performance optimization, safety, ease of use, etc.\n",
        "\n",
        "11. **What advantages do dictionaries offer over lists for certain tasks?**\n",
        "\n",
        "     -> Dictionaries are faster than lists for tasks that involve searching for items, or looking up values. Dictionaries are also more flexible and can store more complex data structures.\n",
        "\n",
        "12. **Describe a scenario where using a tuple would be preferable over a list.**\n",
        "\n",
        "     -> Use a tuple if you need an immutable collection where the elements won't change after creation. Tuples are generally faster and more memory-efficient than lists, making them better for fixed collections, especially as dictionary keys or when iteration speed is crucial.\n",
        "\n",
        "13. **How do sets handle duplicate values in Python?**\n",
        "\n",
        "     -> Items of a set in python are immutable (unchangeable), do not duplicate values, and unordered. Thus, items in a set do not appear in a stipulated manner, i.e., they can appear in a different order every time it is used. Due to this, set items cannot be referred to by key or index.\n",
        "\n",
        "14. **How does the “in” keyword work differently for lists and dictionaries?**\n",
        "\n",
        "     -> The in operator in Python is a membership operator used to check if a value is part of a collection. You can write not in in Python to check if a value is absent from a collection. Python's membership operators work with several data types like lists, tuples, ranges, and dictionaries. You can use operator.\n",
        "\n",
        "15. **Can you modify the elements of a tuple? Explain why or why not.**\n",
        "\n",
        "     -> No, you cannot modify the elements of a tuple in Python because tuples are immutable. This means that once a tuple is created, its elements cannot be changed, added, or removed.\n",
        "\n",
        "     **Explanation**\n",
        "\n",
        "       Tuples are immutable, while lists are mutable.\n",
        "       If you try to change a tuple element, you will receive a TypeError error.\n",
        "       To add or remove elements from a tuple, you need to create a new tuple.\n",
        "       Tuples are more memory-efficient than lists.\n",
        "\n",
        "16. **What is a nested dictionary, and give an example of its use case?**\n",
        "\n",
        "     -> A nested dictionary is a dictionary that is stored within another dictionary. It's a powerful tool for storing and organizing data with multiple layers.\n",
        "\n",
        "     **Example**\n",
        "\n",
        "      An organizational chart where the keys are departments and the values are dictionaries of employees in that department.\n",
        "\n",
        "17. **Describe the time complexity of accessing elements in a dictionary.**\n",
        "\n",
        "     -> The time complexity of accessing an element in a Python dictionary is O(1) on average, but can be O(n) in the worst case. The worst case occurs when there are many hash collisions or when the dictionary needs to be resized.\n",
        "\n",
        "     **Explanation**\n",
        "\n",
        "      Python dictionaries use a hashing system that allows them to quickly look up keys.\n",
        "      The time complexity of dictionary operations depends on the size of the dictionary and the specific operation.\n",
        "      The worst-case time complexity is the maximum amount of time required for inputs of a given size.\n",
        "      Hash collisions in dictionaries can degrade O(1) operations to O(n).\n",
        "\n",
        "18. **In what situations are lists preferred over dictionaries?**\n",
        "\n",
        "     -> For quick data look-ups, configurations, or caches, favor dictionaries. For ordered collections and sequence operations, such as maintaining a stack or queue, lists are more suitable.\n",
        "\n",
        "19. **Why are dictionaries considered unordered, and how does that affect data\n",
        "      retrieval ?**\n",
        "\n",
        "      -> Dictionary is a data structure which is a important value structure, optimized for fast storage and recovery based on key. In python, dictionaries are un-ordered because Python dictionaries are not intended to be in order, as simple as that.\n",
        "\n",
        "20. **Explain the difference between a list and a dictionary in terms of data\n",
        "      retrieval.**\n",
        "\n",
        "      -> In Python, the difference between data retrieval in a list and a dictionary is that lists use indices to access elements, while dictionaries use keys.\n",
        "\n",
        "      **Explanation**\n",
        "\n",
        "      **Lists**\n",
        "          Lists are ordered collections of items.\n",
        "          Elements in a list are accessed using indices, which are integers that start at zero.\n",
        "          Lists are good for ordered operations like sorting.\n",
        "          Lists can contain duplicate items.\n",
        "           \n",
        "      **Dictionaries**\n",
        "\n",
        "        Dictionaries are unordered collections of key-value pairs.\n",
        "        Elements in a dictionary are accessed using keys, which can be of any data type.\n",
        "        Dictionaries are good for lookup operations.\n",
        "        Dictionaries do not allow duplicate keys.\n",
        "\n",
        "     "
      ],
      "metadata": {
        "id": "ds-d8YMBDG6p"
      }
    },
    {
      "cell_type": "markdown",
      "source": [
        "**Practical Questions**"
      ],
      "metadata": {
        "id": "qhx4fCzjcufl"
      }
    },
    {
      "cell_type": "markdown",
      "source": [
        "1. **Write a code to create a string with your name and print it.**"
      ],
      "metadata": {
        "id": "2yEtbW6TcyWi"
      }
    },
    {
      "cell_type": "code",
      "execution_count": 1,
      "metadata": {
        "id": "mVKJK1PRCYRg",
        "colab": {
          "base_uri": "https://localhost:8080/"
        },
        "outputId": "2818d22a-754f-49b7-a575-be8020e8b1d0"
      },
      "outputs": [
        {
          "output_type": "stream",
          "name": "stdout",
          "text": [
            "My name is MALLIKA\n"
          ]
        }
      ],
      "source": [
        "name = \"MALLIKA\"\n",
        "print(\"My name is\", name)\n"
      ]
    },
    {
      "cell_type": "markdown",
      "source": [
        "2. **Write a code to find the length of the string \"Hello World\".**"
      ],
      "metadata": {
        "id": "-NGEKq7Ni--E"
      }
    },
    {
      "cell_type": "code",
      "source": [
        "# Define the string\n",
        "text = \"Hello World\"\n",
        "\n",
        "# Find the length of the string\n",
        "length = len(text)\n",
        "\n",
        "# Print the length\n",
        "print(\"The length of the string is:\", length)\n"
      ],
      "metadata": {
        "colab": {
          "base_uri": "https://localhost:8080/"
        },
        "id": "JbqJ4PNWjOIr",
        "outputId": "d2682ffd-b532-428c-ecc7-5ef8ca06d610"
      },
      "execution_count": 2,
      "outputs": [
        {
          "output_type": "stream",
          "name": "stdout",
          "text": [
            "The length of the string is: 11\n"
          ]
        }
      ]
    },
    {
      "cell_type": "markdown",
      "source": [
        "3. **Write a code to slice the first 3 characters from the string \"Python Programming\".**"
      ],
      "metadata": {
        "id": "wiowhcZ2kZTu"
      }
    },
    {
      "cell_type": "code",
      "source": [
        "# Define the string\n",
        "text = \"Python Programming\"\n",
        "\n",
        "# Slice the first 3 characters\n",
        "sliced_text = text[:3]\n",
        "\n",
        "# Print the sliced text\n",
        "print(\"The first 3 characters are:\", sliced_text)\n"
      ],
      "metadata": {
        "colab": {
          "base_uri": "https://localhost:8080/"
        },
        "id": "i2ojkHz9kliG",
        "outputId": "10740188-9c33-4197-a8e8-4d6243273b25"
      },
      "execution_count": 3,
      "outputs": [
        {
          "output_type": "stream",
          "name": "stdout",
          "text": [
            "The first 3 characters are: Pyt\n"
          ]
        }
      ]
    },
    {
      "cell_type": "markdown",
      "source": [
        "4. **Write a code to convert the string \"hello\" to uppercase.**"
      ],
      "metadata": {
        "id": "Sq2rLl_ilH5u"
      }
    },
    {
      "cell_type": "code",
      "source": [
        "# Define the string\n",
        "text = \"hello\"\n",
        "\n",
        "# Convert the string to uppercase\n",
        "uppercase_text = text.upper()\n",
        "\n",
        "# Print the uppercase text\n",
        "print(uppercase_text)\n"
      ],
      "metadata": {
        "colab": {
          "base_uri": "https://localhost:8080/"
        },
        "id": "q3iDJsMUlgwp",
        "outputId": "68a31f69-843f-48bf-b8e5-dfe9a498fdb7"
      },
      "execution_count": 4,
      "outputs": [
        {
          "output_type": "stream",
          "name": "stdout",
          "text": [
            "HELLO\n"
          ]
        }
      ]
    },
    {
      "cell_type": "markdown",
      "source": [
        "5. **Write a code to replace the word \"apple\" with \"orange\" in the string \"I like apple\".**"
      ],
      "metadata": {
        "id": "mFUAitfzloxN"
      }
    },
    {
      "cell_type": "code",
      "source": [
        "text = \"I like apple\"\n",
        "modified_text = text.replace(\"apple\", \"orange\")\n",
        "print(modified_text)\n"
      ],
      "metadata": {
        "colab": {
          "base_uri": "https://localhost:8080/"
        },
        "id": "BJzpWu6VlwPF",
        "outputId": "9cf590a1-f386-4701-f398-e012b3880a6a"
      },
      "execution_count": 5,
      "outputs": [
        {
          "output_type": "stream",
          "name": "stdout",
          "text": [
            "I like orange\n"
          ]
        }
      ]
    },
    {
      "cell_type": "markdown",
      "source": [
        "6. **Write a code to create a list with numbers 1 to 5 and print it.**\n"
      ],
      "metadata": {
        "id": "plpMkXOpmKbH"
      }
    },
    {
      "cell_type": "code",
      "source": [
        "numbers = [1, 2, 3, 4, 5]\n",
        "print(numbers)\n"
      ],
      "metadata": {
        "colab": {
          "base_uri": "https://localhost:8080/"
        },
        "id": "pjngDBIfmXyF",
        "outputId": "721b87e0-eefd-4def-a6c0-cfd4cb8f64d0"
      },
      "execution_count": 6,
      "outputs": [
        {
          "output_type": "stream",
          "name": "stdout",
          "text": [
            "[1, 2, 3, 4, 5]\n"
          ]
        }
      ]
    },
    {
      "cell_type": "markdown",
      "source": [
        "7. **Write a code to append the number 10 to the list [1, 2, 3, 4].**"
      ],
      "metadata": {
        "id": "qlhH6mFdmiI2"
      }
    },
    {
      "cell_type": "code",
      "source": [
        "numbers = [1, 2, 3, 4]\n",
        "numbers.append(10)\n",
        "print(numbers)\n"
      ],
      "metadata": {
        "colab": {
          "base_uri": "https://localhost:8080/"
        },
        "id": "aA811eUUm7Cu",
        "outputId": "ff2166d4-dc6b-494e-cf58-cf01969b4ea4"
      },
      "execution_count": 7,
      "outputs": [
        {
          "output_type": "stream",
          "name": "stdout",
          "text": [
            "[1, 2, 3, 4, 10]\n"
          ]
        }
      ]
    },
    {
      "cell_type": "markdown",
      "source": [
        "8. **Write a code to remove the number 3 from the list [1, 2, 3, 4, 5].**"
      ],
      "metadata": {
        "id": "7NsRv-IinJUu"
      }
    },
    {
      "cell_type": "code",
      "source": [
        "numbers = [1, 2, 3, 4, 5]\n",
        "numbers.remove(3)\n",
        "print(numbers)\n"
      ],
      "metadata": {
        "colab": {
          "base_uri": "https://localhost:8080/"
        },
        "id": "F8vXjkFDnRG3",
        "outputId": "ed9e94ce-8259-4a17-8fb6-9a3a43b14231"
      },
      "execution_count": 8,
      "outputs": [
        {
          "output_type": "stream",
          "name": "stdout",
          "text": [
            "[1, 2, 4, 5]\n"
          ]
        }
      ]
    },
    {
      "cell_type": "markdown",
      "source": [
        "9. **Write a code to access the second element in the list ['a', 'b', 'c', 'd'].**"
      ],
      "metadata": {
        "id": "FXMq7P9Xnejl"
      }
    },
    {
      "cell_type": "code",
      "source": [
        "letters = ['a', 'b', 'c', 'd']\n",
        "second_element = letters[1]\n",
        "print(second_element)\n"
      ],
      "metadata": {
        "colab": {
          "base_uri": "https://localhost:8080/"
        },
        "id": "fUzH6PThnsRe",
        "outputId": "118db3c2-a24d-4e81-ec4a-6904117b9ac5"
      },
      "execution_count": 9,
      "outputs": [
        {
          "output_type": "stream",
          "name": "stdout",
          "text": [
            "b\n"
          ]
        }
      ]
    },
    {
      "cell_type": "markdown",
      "source": [
        "10. **Write a code to reverse the list [10, 20, 30, 40, 50].**"
      ],
      "metadata": {
        "id": "O2KPjzPBn2S2"
      }
    },
    {
      "cell_type": "code",
      "source": [
        "numbers = [10, 20, 30, 40, 50]\n",
        "numbers.reverse()\n",
        "print(numbers)\n"
      ],
      "metadata": {
        "colab": {
          "base_uri": "https://localhost:8080/"
        },
        "id": "-zWRuIqyoJP0",
        "outputId": "b21a4f2c-9839-4e5f-b40d-576bb806b23f"
      },
      "execution_count": 10,
      "outputs": [
        {
          "output_type": "stream",
          "name": "stdout",
          "text": [
            "[50, 40, 30, 20, 10]\n"
          ]
        }
      ]
    },
    {
      "cell_type": "markdown",
      "source": [
        "11. ** Write a code to create a tuple with the elements 100, 200, 300 and print it.**"
      ],
      "metadata": {
        "id": "BNgB7gKRoTXY"
      }
    },
    {
      "cell_type": "code",
      "source": [
        "my_tuple = (100, 200, 300)\n",
        "print(my_tuple)\n"
      ],
      "metadata": {
        "colab": {
          "base_uri": "https://localhost:8080/"
        },
        "id": "1r7bRTunogAZ",
        "outputId": "defe9e72-f970-4606-ccd7-a9e1cf481684"
      },
      "execution_count": 11,
      "outputs": [
        {
          "output_type": "stream",
          "name": "stdout",
          "text": [
            "(100, 200, 300)\n"
          ]
        }
      ]
    },
    {
      "cell_type": "markdown",
      "source": [
        "12. **Write a code to access the second-to-last element of the tuple ('red', 'green', 'blue', 'yellow').**"
      ],
      "metadata": {
        "id": "JWpb_G9losio"
      }
    },
    {
      "cell_type": "code",
      "source": [
        "colors = ('red', 'green', 'blue', 'yellow')\n",
        "second_to_last = colors[-2]\n",
        "print(second_to_last)\n"
      ],
      "metadata": {
        "colab": {
          "base_uri": "https://localhost:8080/"
        },
        "id": "1X5r_Inzo1Jq",
        "outputId": "24974de9-50ec-4dde-d2aa-d145ec1b5f92"
      },
      "execution_count": 12,
      "outputs": [
        {
          "output_type": "stream",
          "name": "stdout",
          "text": [
            "blue\n"
          ]
        }
      ]
    },
    {
      "cell_type": "markdown",
      "source": [
        "13. ** Write a code to find the minimum number in the tuple (10, 20, 5, 15).**"
      ],
      "metadata": {
        "id": "-cIpKVJopC5K"
      }
    },
    {
      "cell_type": "code",
      "source": [
        "numbers = (10, 20, 5, 15)\n",
        "min_number = min(numbers)\n",
        "print(min_number)\n"
      ],
      "metadata": {
        "colab": {
          "base_uri": "https://localhost:8080/"
        },
        "id": "v3dzUnm9pPou",
        "outputId": "a42e3cb1-432e-4c18-96dc-3033bf0acac8"
      },
      "execution_count": 13,
      "outputs": [
        {
          "output_type": "stream",
          "name": "stdout",
          "text": [
            "5\n"
          ]
        }
      ]
    },
    {
      "cell_type": "markdown",
      "source": [
        "14. ** Write a code to find the index of the element \"cat\" in the tuple ('dog', 'cat', 'rabbit').**"
      ],
      "metadata": {
        "id": "v5FPX2gEpYv8"
      }
    },
    {
      "cell_type": "code",
      "source": [
        "animals = ('dog', 'cat', 'rabbit')\n",
        "index_of_cat = animals.index('cat')\n",
        "print(index_of_cat)\n"
      ],
      "metadata": {
        "colab": {
          "base_uri": "https://localhost:8080/"
        },
        "id": "UOVyQVs3pnEd",
        "outputId": "d6523c23-2b3a-4991-f8c3-f986f62edd5d"
      },
      "execution_count": 14,
      "outputs": [
        {
          "output_type": "stream",
          "name": "stdout",
          "text": [
            "1\n"
          ]
        }
      ]
    },
    {
      "cell_type": "markdown",
      "source": [
        "15. ** Write a code to create a tuple containing three different fruits and check if \"kiwi\" is in it.**"
      ],
      "metadata": {
        "id": "L1dr9_dXp-Yc"
      }
    },
    {
      "cell_type": "code",
      "source": [
        "fruits = ('apple', 'banana', 'cherry')\n",
        "is_kiwi_in_tuple = 'kiwi' in fruits\n",
        "print(is_kiwi_in_tuple)\n"
      ],
      "metadata": {
        "colab": {
          "base_uri": "https://localhost:8080/"
        },
        "id": "VcpDbptRqHKd",
        "outputId": "ee724d2e-7619-47ce-e9e4-d0d6c28a59bb"
      },
      "execution_count": 15,
      "outputs": [
        {
          "output_type": "stream",
          "name": "stdout",
          "text": [
            "False\n"
          ]
        }
      ]
    },
    {
      "cell_type": "markdown",
      "source": [
        "16. **Write a code to create a set with the elements 'a', 'b', 'c' and print it.**"
      ],
      "metadata": {
        "id": "AH1YxjX5qmWV"
      }
    },
    {
      "cell_type": "code",
      "source": [
        "my_set = {'a', 'b', 'c'}\n",
        "print(my_set)\n"
      ],
      "metadata": {
        "colab": {
          "base_uri": "https://localhost:8080/"
        },
        "id": "4Gb7YtIqqvJi",
        "outputId": "516b53c2-f888-4402-8d19-719aebb092a4"
      },
      "execution_count": 24,
      "outputs": [
        {
          "output_type": "stream",
          "name": "stdout",
          "text": [
            "{'b', 'a', 'c'}\n"
          ]
        }
      ]
    },
    {
      "cell_type": "markdown",
      "source": [
        "17. **Write a code to clear all elements from the set {1, 2, 3, 4, 5}.**"
      ],
      "metadata": {
        "id": "r1YW9i0fq3tr"
      }
    },
    {
      "cell_type": "code",
      "source": [
        "my_set = {1, 2, 3, 4, 5}\n",
        "my_set.clear()\n",
        "print(my_set)\n"
      ],
      "metadata": {
        "colab": {
          "base_uri": "https://localhost:8080/"
        },
        "id": "Qga5SXE3rBsm",
        "outputId": "4195d256-b6ed-4e01-9ae3-13180d252706"
      },
      "execution_count": 18,
      "outputs": [
        {
          "output_type": "stream",
          "name": "stdout",
          "text": [
            "set()\n"
          ]
        }
      ]
    },
    {
      "cell_type": "markdown",
      "source": [
        "18. **Write a code to remove the element 4 from the set {1, 2, 3, 4}.**"
      ],
      "metadata": {
        "id": "DIRsfW8SrQdr"
      }
    },
    {
      "cell_type": "code",
      "source": [
        "my_set = {1, 2, 3, 4}\n",
        "my_set.remove(4)\n",
        "print(my_set)\n"
      ],
      "metadata": {
        "colab": {
          "base_uri": "https://localhost:8080/"
        },
        "id": "lRqELsb7rXnD",
        "outputId": "040db75f-df00-4e1f-8260-5af9518f8132"
      },
      "execution_count": 19,
      "outputs": [
        {
          "output_type": "stream",
          "name": "stdout",
          "text": [
            "{1, 2, 3}\n"
          ]
        }
      ]
    },
    {
      "cell_type": "markdown",
      "source": [
        "19. **Write a code to find the union of two sets {1, 2, 3} and {3, 4, 5}.**"
      ],
      "metadata": {
        "id": "4bNTK9l2rqoP"
      }
    },
    {
      "cell_type": "code",
      "source": [
        "set1 = {1, 2, 3}\n",
        "set2 = {3, 4, 5}\n",
        "union_set = set1.union(set2)\n",
        "print(union_set)\n"
      ],
      "metadata": {
        "colab": {
          "base_uri": "https://localhost:8080/"
        },
        "id": "MFFrlOLJr0QR",
        "outputId": "1151a091-8e4c-4644-8e0c-1ea529a4266f"
      },
      "execution_count": 20,
      "outputs": [
        {
          "output_type": "stream",
          "name": "stdout",
          "text": [
            "{1, 2, 3, 4, 5}\n"
          ]
        }
      ]
    },
    {
      "cell_type": "markdown",
      "source": [
        "20. **Write a code to find the intersection of two sets {1, 2, 3} and {2, 3, 4}.**"
      ],
      "metadata": {
        "id": "ldyBS1Ndr9ch"
      }
    },
    {
      "cell_type": "code",
      "source": [
        "set1 = {1, 2, 3}\n",
        "set2 = {2, 3, 4}\n",
        "intersection_set = set1.intersection(set2)\n",
        "print(intersection_set)\n"
      ],
      "metadata": {
        "colab": {
          "base_uri": "https://localhost:8080/"
        },
        "id": "SJLrOqB_sHIj",
        "outputId": "bb6334b3-5795-44ce-8321-25115f148c8a"
      },
      "execution_count": 21,
      "outputs": [
        {
          "output_type": "stream",
          "name": "stdout",
          "text": [
            "{2, 3}\n"
          ]
        }
      ]
    },
    {
      "cell_type": "markdown",
      "source": [
        "21. **Write a code to create a dictionary with the keys \"name\", \"age\", and \"city\", and print it.**"
      ],
      "metadata": {
        "id": "ukW5xWTzsRZm"
      }
    },
    {
      "cell_type": "code",
      "source": [
        "my_dict = {\n",
        "    \"name\": \"Mallika\",\n",
        "    \"age\": 23,\n",
        "    \"city\": \"Roorkee\"\n",
        "}\n",
        "print(my_dict)\n"
      ],
      "metadata": {
        "colab": {
          "base_uri": "https://localhost:8080/"
        },
        "id": "49bzFbtvsZAN",
        "outputId": "b44f636a-bd0a-49e1-801c-c5f84bc868cc"
      },
      "execution_count": 22,
      "outputs": [
        {
          "output_type": "stream",
          "name": "stdout",
          "text": [
            "{'name': 'Mallika', 'age': 23, 'city': 'Roorkee'}\n"
          ]
        }
      ]
    },
    {
      "cell_type": "markdown",
      "source": [
        "22. **Write a code to add a new key-value pair \"country\": \"USA\" to the dictionary {'name': 'John', 'age': 25}.**"
      ],
      "metadata": {
        "id": "SFlmoNRssvjh"
      }
    },
    {
      "cell_type": "code",
      "source": [
        "my_dict = {'name': 'John', 'age': 25}\n",
        "my_dict[\"country\"] = \"USA\"\n",
        "print(my_dict)\n"
      ],
      "metadata": {
        "colab": {
          "base_uri": "https://localhost:8080/"
        },
        "id": "h4KUCuTgs9nb",
        "outputId": "d23e03b8-af12-4e25-9f04-2c2b74d32bb1"
      },
      "execution_count": 23,
      "outputs": [
        {
          "output_type": "stream",
          "name": "stdout",
          "text": [
            "{'name': 'John', 'age': 25, 'country': 'USA'}\n"
          ]
        }
      ]
    },
    {
      "cell_type": "markdown",
      "source": [
        "23. **Write a code to access the value associated with the key \"name\" in the dictionary {'name': 'Alice', 'age': 30}.**"
      ],
      "metadata": {
        "id": "Y3kj0ZxBtJnb"
      }
    },
    {
      "cell_type": "code",
      "source": [
        "my_dict = {'name': 'Alice', 'age': 30}\n",
        "name_value = my_dict[\"name\"]\n",
        "print(name_value)\n"
      ],
      "metadata": {
        "colab": {
          "base_uri": "https://localhost:8080/"
        },
        "id": "aeR3dCQ8tqrc",
        "outputId": "9d34c8cb-3523-45a3-ec7c-c9eb41b7e140"
      },
      "execution_count": 25,
      "outputs": [
        {
          "output_type": "stream",
          "name": "stdout",
          "text": [
            "Alice\n"
          ]
        }
      ]
    },
    {
      "cell_type": "markdown",
      "source": [
        "24. **Write a code to remove the key \"age\" from the dictionary {'name': 'Bob', 'age': 22, 'city': 'New York'}.**"
      ],
      "metadata": {
        "id": "3f_HC5tPtzzq"
      }
    },
    {
      "cell_type": "code",
      "source": [
        "my_dict = {'name': 'Bob', 'age': 22, 'city': 'New York'}\n",
        "del my_dict[\"age\"]\n",
        "print(my_dict)\n"
      ],
      "metadata": {
        "colab": {
          "base_uri": "https://localhost:8080/"
        },
        "id": "A2NXYkRqt-gk",
        "outputId": "89cac62e-a906-48a9-e529-99777da2b373"
      },
      "execution_count": 26,
      "outputs": [
        {
          "output_type": "stream",
          "name": "stdout",
          "text": [
            "{'name': 'Bob', 'city': 'New York'}\n"
          ]
        }
      ]
    },
    {
      "cell_type": "markdown",
      "source": [
        "25. ** Write a code to check if the key \"city\" exists in the dictionary {'name': 'Alice', 'city': 'Paris'}.**"
      ],
      "metadata": {
        "id": "jjcmExJQuM9v"
      }
    },
    {
      "cell_type": "code",
      "source": [
        "my_dict = {'name': 'Alice', 'city': 'Paris'}\n",
        "if \"city\" in my_dict:\n",
        "    print(\"Key 'city' exists in the dictionary.\")\n",
        "else:\n",
        "    print(\"Key 'city' does not exist in the dictionary.\")\n"
      ],
      "metadata": {
        "colab": {
          "base_uri": "https://localhost:8080/"
        },
        "id": "gGlvTLQ0uXpa",
        "outputId": "4d37c669-f419-48da-a25a-12bbd966d90c"
      },
      "execution_count": 27,
      "outputs": [
        {
          "output_type": "stream",
          "name": "stdout",
          "text": [
            "Key 'city' exists in the dictionary.\n"
          ]
        }
      ]
    },
    {
      "cell_type": "markdown",
      "source": [
        "26.**Write a code to create a list, a tuple, and a dictionary, and print them all.**"
      ],
      "metadata": {
        "id": "UD-vE2-JurCV"
      }
    },
    {
      "cell_type": "code",
      "source": [
        "# Creating a list\n",
        "my_list = [1, 2, 3, 4, 5]\n",
        "\n",
        "# Creating a tuple\n",
        "my_tuple = ('apple', 'banana', 'cherry')\n",
        "\n",
        "# Creating a dictionary\n",
        "my_dict = {'name': 'Alice', 'age': 30, 'city': 'Paris'}\n",
        "\n",
        "# Printing all of them\n",
        "print(\"List:\", my_list)\n",
        "print(\"Tuple:\", my_tuple)\n",
        "print(\"Dictionary:\", my_dict)\n"
      ],
      "metadata": {
        "colab": {
          "base_uri": "https://localhost:8080/"
        },
        "id": "4I0qdreiuzRE",
        "outputId": "f42e6f25-377a-4f36-cb76-4eccdbe8e464"
      },
      "execution_count": 28,
      "outputs": [
        {
          "output_type": "stream",
          "name": "stdout",
          "text": [
            "List: [1, 2, 3, 4, 5]\n",
            "Tuple: ('apple', 'banana', 'cherry')\n",
            "Dictionary: {'name': 'Alice', 'age': 30, 'city': 'Paris'}\n"
          ]
        }
      ]
    },
    {
      "cell_type": "markdown",
      "source": [
        "27. **Write a code to create a list of 5 random numbers between 1 and 100, sort it in ascending order, and print the\n",
        "result.(replaced)**"
      ],
      "metadata": {
        "id": "lyuQMUASvDXx"
      }
    },
    {
      "cell_type": "code",
      "source": [
        "import random\n",
        "\n",
        "# Create a list of 5 random numbers between 1 and 100\n",
        "random_numbers = [random.randint(1, 100) for _ in range(5)]\n",
        "\n",
        "# Sort the list in ascending order\n",
        "random_numbers.sort()\n",
        "\n",
        "# Print the sorted list\n",
        "print(random_numbers)\n"
      ],
      "metadata": {
        "colab": {
          "base_uri": "https://localhost:8080/"
        },
        "id": "3toGq_bQvfes",
        "outputId": "b66907b2-f544-47c2-b20a-e1458200a882"
      },
      "execution_count": 29,
      "outputs": [
        {
          "output_type": "stream",
          "name": "stdout",
          "text": [
            "[37, 58, 62, 96, 97]\n"
          ]
        }
      ]
    },
    {
      "cell_type": "markdown",
      "source": [
        "28. **Write a code to create a list with strings and print the element at the third index.**\n",
        "\n"
      ],
      "metadata": {
        "id": "x0KbMQbNvkLP"
      }
    },
    {
      "cell_type": "code",
      "source": [
        "# Create a list of strings\n",
        "my_list = [\"apple\", \"banana\", \"cherry\", \"date\", \"elderberry\"]\n",
        "\n",
        "# Print the element at the third index\n",
        "print(my_list[3])\n"
      ],
      "metadata": {
        "colab": {
          "base_uri": "https://localhost:8080/"
        },
        "id": "H9A_Nx2AvvSt",
        "outputId": "4a0735f2-9512-4743-b6a7-99d36bc4f83d"
      },
      "execution_count": 30,
      "outputs": [
        {
          "output_type": "stream",
          "name": "stdout",
          "text": [
            "date\n"
          ]
        }
      ]
    },
    {
      "cell_type": "markdown",
      "source": [
        "29. **Write a code to combine two dictionaries into one and print the result.**"
      ],
      "metadata": {
        "id": "bG-xoa72v68B"
      }
    },
    {
      "cell_type": "code",
      "source": [
        "# Define two dictionaries\n",
        "dict1 = {'name': 'Alice', 'age': 30}\n",
        "dict2 = {'city': 'Paris', 'country': 'France'}\n",
        "\n",
        "# Combine the dictionaries\n",
        "combined_dict = {**dict1, **dict2}\n",
        "\n",
        "# Print the combined dictionary\n",
        "print(combined_dict)\n"
      ],
      "metadata": {
        "colab": {
          "base_uri": "https://localhost:8080/"
        },
        "id": "CYAdHBjgwDAX",
        "outputId": "fe60bdcc-68af-4545-dc98-03c3e4708408"
      },
      "execution_count": 31,
      "outputs": [
        {
          "output_type": "stream",
          "name": "stdout",
          "text": [
            "{'name': 'Alice', 'age': 30, 'city': 'Paris', 'country': 'France'}\n"
          ]
        }
      ]
    },
    {
      "cell_type": "markdown",
      "source": [
        "30. **Write a code to convert a list of strings into a set.**"
      ],
      "metadata": {
        "id": "p7pWYOEPwVp3"
      }
    },
    {
      "cell_type": "code",
      "source": [
        "# Create a list of strings\n",
        "my_list = [\"apple\", \"banana\", \"cherry\", \"apple\", \"banana\"]\n",
        "\n",
        "# Convert the list to a set\n",
        "my_set = set(my_list)\n",
        "\n",
        "# Print the set\n",
        "print(my_set)\n"
      ],
      "metadata": {
        "colab": {
          "base_uri": "https://localhost:8080/"
        },
        "id": "SyYscNa9whS1",
        "outputId": "ab8487ab-be82-4871-f49f-af4fb44c22bd"
      },
      "execution_count": 32,
      "outputs": [
        {
          "output_type": "stream",
          "name": "stdout",
          "text": [
            "{'apple', 'banana', 'cherry'}\n"
          ]
        }
      ]
    }
  ]
}